{
 "cells": [
  {
   "cell_type": "markdown",
   "metadata": {},
   "source": [
    "# 5-minute-tutorial: Cryptimeleon Math\n",
    "\n",
    "Cryptimeleon Math is a library supplying the mathematical basics for cryptography (usually elliptic curve/pairing-based).\n",
    "\n",
    "To give you some insight into the library, let's implement the well-known Pedersen commitment scheme over an elliptic curve as an example. "
   ]
  },
  {
   "cell_type": "markdown",
   "metadata": {},
   "source": [
    "## Setup 🔨\n",
    "\n",
    "Let's include the Cryptimeleon Math library and set up the secp256k1 elliptic curve group. "
   ]
  },
  {
   "cell_type": "code",
   "execution_count": 1,
   "metadata": {},
   "outputs": [],
   "source": [
    "%maven org.cryptimeleon:math:1.0.0-SNAPSHOT"
   ]
  },
  {
   "cell_type": "code",
   "execution_count": 4,
   "metadata": {},
   "outputs": [],
   "source": [
    "import org.cryptimeleon.math.structures.groups.elliptic.nopairing.Secp256k1;\n",
    "import org.cryptimeleon.math.structures.groups.lazy.LazyGroup;\n",
    "import org.cryptimeleon.math.structures.groups.*;\n",
    "\n",
    "Group group = new LazyGroup(new Secp256k1()); //LazyGroup evaluates group operations lazily (see later)"
   ]
  },
  {
   "cell_type": "markdown",
   "metadata": {},
   "source": [
    "A `Group` plays the role of the set $\\mathbb{G}$. It has a `size()` and a bunch of useful methods to instantiate its `GroupElement`s."
   ]
  },
  {
   "cell_type": "code",
   "execution_count": 5,
   "metadata": {},
   "outputs": [
    {
     "name": "stdout",
     "output_type": "stream",
     "text": [
      "group size() = 115792089237316195423570985008687907852837564279074904382605163141518161494337\n"
     ]
    }
   ],
   "source": [
    "var n = group.size();\n",
    "System.out.println(\"group size() = \" + n);"
   ]
  },
  {
   "cell_type": "markdown",
   "metadata": {},
   "source": [
    "Now let's set up the public parameters for the Pedersen commitment: two random group elements $g,h\\in\\mathbb{G}$."
   ]
  },
  {
   "cell_type": "code",
   "execution_count": 6,
   "metadata": {},
   "outputs": [],
   "source": [
    "var g = group.getUniformlyRandomNonNeutral(); \n",
    "var h = group.getUniformlyRandomNonNeutral(); "
   ]
  },
  {
   "cell_type": "markdown",
   "metadata": {},
   "source": [
    "`g` and `h` are `GroupElement`s. Their most important methods are `op(...)` (for the group operation) and `pow(...)` (for exponentiation/scalar multiplication). "
   ]
  },
  {
   "cell_type": "markdown",
   "metadata": {},
   "source": [
    "### `GroupElement`s are lazy 😴\n",
    "Let's look at the group elements:"
   ]
  },
  {
   "cell_type": "code",
   "execution_count": 7,
   "metadata": {},
   "outputs": [
    {
     "name": "stdout",
     "output_type": "stream",
     "text": [
      "LazyGroupElement{computationState=NOTHING}\n",
      "LazyGroupElement{computationState=NOTHING}\n"
     ]
    }
   ],
   "source": [
    "System.out.println(g);\n",
    "System.out.println(h);"
   ]
  },
  {
   "cell_type": "markdown",
   "metadata": {},
   "source": [
    "Most operations concerning group elements in Math are lazy, i.e. they are only evaluated when necessary (and we consider `toString()` not to be necessary but rather a debugging tool). This has a bunch of advantages that we'll get to later. When working with `g` and `h`, this doesn't really change anything - though their values are not yet known, you can pretend that they are (when they are needed, they will be computed transparently). "
   ]
  },
  {
   "cell_type": "markdown",
   "metadata": {},
   "source": [
    "### Precomputation 🔮\n",
    "`g` and `h` are fixed and publicly known and we'll later compute lots of expressions of the form $C = g^m\\cdot h^r$. To speed that up, we can invest some time and memory to do some precomputation _now_. \n",
    "Thankfully, this is very easy to do: "
   ]
  },
  {
   "cell_type": "code",
   "execution_count": 8,
   "metadata": {},
   "outputs": [
    {
     "name": "stdout",
     "output_type": "stream",
     "text": [
      "Precomputation done.\n"
     ]
    }
   ],
   "source": [
    "g.precomputePow();\n",
    "h.precomputePow();\n",
    "System.out.println(\"Precomputation done.\");"
   ]
  },
  {
   "cell_type": "markdown",
   "metadata": {},
   "source": [
    "Future computations `g.pow(...)` and `h.pow(...)` will benefit from precomputation.\n",
    "\n",
    "<small>_As a side-effect, the values of `g` and `h` have been explicitly computed and can now be printed by `println()` above. You can now see that they indeed look like elliptic curve points._</small> "
   ]
  },
  {
   "cell_type": "markdown",
   "metadata": {},
   "source": [
    "## Committing 😱\n",
    "\n",
    "### Choosing a message 📝\n",
    "Now let's commit to a message $m$. For Pedersen commitments, $m$ lives in $\\mathbb{Z}_n$ (because exponents are to be interpreted modulo the group order $n$). We can get the appropriate $\\mathbb{Z}_n$ object from the group:"
   ]
  },
  {
   "cell_type": "code",
   "execution_count": 9,
   "metadata": {},
   "outputs": [],
   "source": [
    "var zn = group.getZn();"
   ]
  },
  {
   "cell_type": "markdown",
   "metadata": {},
   "source": [
    "Similar to how a `Group` is a structure that has `GroupElement`s, `zp` is a structure that contains `ZnElement`s. \n",
    "\n",
    "We can now instantiate our message $m$, which will be a `ZnElement`, in any of the following ways:"
   ]
  },
  {
   "cell_type": "code",
   "execution_count": 10,
   "metadata": {},
   "outputs": [
    {
     "name": "stdout",
     "output_type": "stream",
     "text": [
      "966\n"
     ]
    }
   ],
   "source": [
    "var m = zn.valueOf(23).mul(42); //simply the number 23*42 (mod p)\n",
    "System.out.println(m);"
   ]
  },
  {
   "cell_type": "code",
   "execution_count": 11,
   "metadata": {},
   "outputs": [
    {
     "name": "stdout",
     "output_type": "stream",
     "text": [
      "92630712224131646301456420918815700255881880605567842301690225585365649881467\n"
     ]
    }
   ],
   "source": [
    "var m = zn.getUniformlyRandomElement(); //a random number in Zn\n",
    "System.out.println(m);"
   ]
  },
  {
   "cell_type": "code",
   "execution_count": 14,
   "metadata": {},
   "outputs": [
    {
     "name": "stdout",
     "output_type": "stream",
     "text": [
      "357739458326128062426942553905997083565071573036229449938149284158791503092\n"
     ]
    }
   ],
   "source": [
    "import org.cryptimeleon.math.structures.rings.zn.HashIntoZn;\n",
    "\n",
    "var m = new HashIntoZn(zn).hash(\"We attack at midnight! ⚔️\"); //the hash of the given String into Zn\n",
    "System.out.println(m);"
   ]
  },
  {
   "cell_type": "markdown",
   "metadata": {},
   "source": [
    "### Computing the commitment 🎲\n",
    "\n",
    "Now that we have $m$, let's compute the Pedersen commitment, which is\n",
    "$$ C = g^m\\cdot h^r$$\n",
    "for a random $r\\in\\mathbb{Z}_n$."
   ]
  },
  {
   "cell_type": "code",
   "execution_count": 15,
   "metadata": {},
   "outputs": [
    {
     "name": "stdout",
     "output_type": "stream",
     "text": [
      "LazyGroupElement{computationState=NOTHING}\n"
     ]
    }
   ],
   "source": [
    "var r = zn.getUniformlyRandomElement();\n",
    "var C = g.pow(m).op(h.pow(r));\n",
    "System.out.println(C);"
   ]
  },
  {
   "cell_type": "markdown",
   "metadata": {},
   "source": [
    "### On automatic multiexponentiation 🤖\n",
    "\n",
    "One advantage of the `LazyGroup` approach is that after calling `g.pow(m)`, that value is not immediately computed. This allows us to compute $C$ as a multiexponentiation behind the scenes, i.e. more efficiently than computing $g^m$ and $h^r$ separately and then multiplying them.\n",
    "\n",
    "This is done automatically when the value of $C$ is needed. We can force computation of $C$ by calling `computeSync()` for the sake of illustration."
   ]
  },
  {
   "cell_type": "code",
   "execution_count": 16,
   "metadata": {},
   "outputs": [
    {
     "data": {
      "text/plain": [
       "(56771449235264302615258677380344060394745101305888541425349080151044428825409,88883184015215676917695009465406684554267011012005634798071713139170389707278)"
      ]
     },
     "execution_count": 16,
     "metadata": {},
     "output_type": "execute_result"
    }
   ],
   "source": [
    "C.computeSync() //computes the value of C and blocks the caller until it's done."
   ]
  },
  {
   "cell_type": "markdown",
   "metadata": {},
   "source": [
    "The committer can now transmit $C$ to the verifier, who won't learn anything from it ($C$ is uniformly random in $\\mathbb{G}$) but will be assured that we cannot later change our mind about $m$.\n",
    "\n",
    "For this transmission, we'd have to talk about serialization. Very roughly: every `GroupElement` is able to represent itself as a `Representation`, which is safe to send, and its corresponding `Group` is able to undo this process."
   ]
  },
  {
   "cell_type": "code",
   "execution_count": 17,
   "metadata": {},
   "outputs": [
    {
     "data": {
      "text/plain": [
       "{\"__type\":\"OBJ\",\"x\":\"INT:7d838066de6a5e807c8b35b1c49513175e1db3d7cd053e2e81490c674b828341\",\"y\":\"INT:c48219706b509d790941ffacf9891718502f96b17da35b91f5240bb5b3faca0e\",\"z\":\"INT:1\"}"
      ]
     },
     "execution_count": 17,
     "metadata": {},
     "output_type": "execute_result"
    }
   ],
   "source": [
    "C.getRepresentation()"
   ]
  },
  {
   "cell_type": "code",
   "execution_count": 18,
   "metadata": {},
   "outputs": [
    {
     "data": {
      "text/plain": [
       "true"
      ]
     },
     "execution_count": 18,
     "metadata": {},
     "output_type": "execute_result"
    }
   ],
   "source": [
    "group.getElement(C.getRepresentation()).equals(C)"
   ]
  },
  {
   "cell_type": "markdown",
   "metadata": {},
   "source": [
    "For more information on serialization, see [our documentation regarding `Representation`s](https://cryptimeleon.github.io/docs/representations.html)."
   ]
  },
  {
   "cell_type": "markdown",
   "metadata": {},
   "source": [
    "## Verifying the commitment 🕵️\n",
    "\n",
    "When we've additionally given $m,r$ to the verifier, they can now check whether $m,r$ is a valid opening for $C$ by checking the following equation:"
   ]
  },
  {
   "cell_type": "code",
   "execution_count": 19,
   "metadata": {},
   "outputs": [
    {
     "data": {
      "text/plain": [
       "true"
      ]
     },
     "execution_count": 19,
     "metadata": {},
     "output_type": "execute_result"
    }
   ],
   "source": [
    "g.pow(m).op(h.pow(r)).equals(C)"
   ]
  },
  {
   "cell_type": "markdown",
   "metadata": {},
   "source": [
    "Note that here, $g^m\\cdot h^r$ is also automatically computed as multiexponentiation."
   ]
  },
  {
   "cell_type": "markdown",
   "metadata": {},
   "source": [
    "... and that's already it for implementing the Pedersen commitment scheme."
   ]
  },
  {
   "cell_type": "markdown",
   "metadata": {},
   "source": [
    "## Bonus: Parallelizing 🦑\n",
    "\n",
    "Another advantage of the `LazyGroup` approach is that it makes group computations easily parallelizable. Consider the following code snippet where we'll compute a whole bunch of commitments:"
   ]
  },
  {
   "cell_type": "code",
   "execution_count": 20,
   "metadata": {
    "scrolled": true
   },
   "outputs": [],
   "source": [
    "List<GroupElement> commitments = new ArrayList<>();\n",
    "\n",
    "for (int i=0;i<500;i++) {\n",
    "    var commitment = g.pow(i).op(h.pow(zn.getUniformlyRandomElement())).compute();\n",
    "        //compute() returns immediately but starts computing the concrete value on a background thread.\n",
    "    commitments.add(commitment); //what we add to the list here could technically be compared to a Future<GroupElement>\n",
    "}"
   ]
  },
  {
   "cell_type": "markdown",
   "metadata": {},
   "source": [
    "As a result, the code above doesn't really run a any group computations itself and hence returns very quickly. \n",
    "All the commitments will be computed on other threads concurrently in the background, utilizing all your CPU cores. \n",
    "\n",
    "You can go on working with all the commitments as you wish (no need to consider whether they're done computing yet). Calls that require the result of the internal computations above may block until the result is there. \n",
    "\n",
    "Conceptually, calling `compute()` or `computeSync()` doesn't have any effect semantically, so for the sake of writing _correct_ code, you'll never have to use them (semantically they are `return this;` operations). But if you want to write _fast_ code, calling `compute()` on some values may enable concurrency and speed things up."
   ]
  },
  {
   "cell_type": "markdown",
   "metadata": {},
   "source": [
    "# ... what's next? 🎉\n",
    "\n",
    "If you're still curious about the library, consider our 15 minute tutorial where we go through some advanced examples for the library."
   ]
  }
 ],
 "metadata": {
  "kernelspec": {
   "display_name": "Java",
   "language": "java",
   "name": "java"
  },
  "language_info": {
   "codemirror_mode": "java",
   "file_extension": ".jshell",
   "mimetype": "text/x-java-source",
   "name": "Java",
   "pygments_lexer": "java",
   "version": "11.0.10+9-Ubuntu-0ubuntu1.20.04"
  }
 },
 "nbformat": 4,
 "nbformat_minor": 4
}